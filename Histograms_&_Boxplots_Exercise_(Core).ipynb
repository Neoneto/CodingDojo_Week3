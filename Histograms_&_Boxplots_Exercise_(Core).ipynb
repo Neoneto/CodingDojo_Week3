{
  "nbformat": 4,
  "nbformat_minor": 0,
  "metadata": {
    "colab": {
      "name": "Histograms & Boxplots Exercise (Core)",
      "provenance": [],
      "authorship_tag": "ABX9TyPwXbSLj63oidBAHZ6HWBL7",
      "include_colab_link": true
    },
    "kernelspec": {
      "name": "python3",
      "display_name": "Python 3"
    },
    "language_info": {
      "name": "python"
    }
  },
  "cells": [
    {
      "cell_type": "markdown",
      "metadata": {
        "id": "view-in-github",
        "colab_type": "text"
      },
      "source": [
        "<a href=\"https://colab.research.google.com/github/Neoneto/CodingDojo_Week3/blob/main/Histograms_%26_Boxplots_Exercise_(Core).ipynb\" target=\"_parent\"><img src=\"https://colab.research.google.com/assets/colab-badge.svg\" alt=\"Open In Colab\"/></a>"
      ]
    },
    {
      "cell_type": "markdown",
      "metadata": {
        "id": "-Op2ARq_phew"
      },
      "source": [
        "# Histograms & Boxplots Exercise (Core)\n",
        "Submitted by Kenneth Alaba"
      ]
    },
    {
      "cell_type": "markdown",
      "metadata": {
        "id": "iTETSYZVp3rN"
      },
      "source": [
        "## Importing the data and the necessary libraries"
      ]
    },
    {
      "cell_type": "code",
      "metadata": {
        "id": "GAoboCJdY09e"
      },
      "source": [
        "# Import the pandas library\n",
        "import pandas as pd\n"
      ],
      "execution_count": 32,
      "outputs": []
    },
    {
      "cell_type": "code",
      "metadata": {
        "id": "0BEKeVf91U7l"
      },
      "source": [
        "# import the matplotlib.pyplot library\n",
        "import matplotlib.pyplot as plt"
      ],
      "execution_count": 33,
      "outputs": []
    },
    {
      "cell_type": "code",
      "metadata": {
        "colab": {
          "base_uri": "https://localhost:8080/"
        },
        "id": "mhE_KQCNZByF",
        "outputId": "384b20c4-a708-418e-ee96-1113616732a2"
      },
      "source": [
        "# Load the data\n",
        "\n",
        "## Mounting Google Drive\n",
        "from google.colab import drive\n",
        "drive.mount('/content/drive')\n",
        "\n",
        "## Opening the file\n",
        "filename = '/content/drive/My Drive/Coding Dojo/03 Week 3: Exploratory Viz/catsvdogs.xlsx'\n",
        "\n",
        "## Storing the data in olympic_df\n",
        "df = pd.read_excel(filename)"
      ],
      "execution_count": 34,
      "outputs": [
        {
          "output_type": "stream",
          "name": "stdout",
          "text": [
            "Drive already mounted at /content/drive; to attempt to forcibly remount, call drive.mount(\"/content/drive\", force_remount=True).\n"
          ]
        }
      ]
    },
    {
      "cell_type": "code",
      "metadata": {
        "colab": {
          "base_uri": "https://localhost:8080/"
        },
        "id": "rQmIa5z0dCWu",
        "outputId": "ffbbe53d-7ddc-4133-fb5b-7cfb47621659"
      },
      "source": [
        "# Display the info of the dataframe\n",
        "df.info()"
      ],
      "execution_count": 35,
      "outputs": [
        {
          "output_type": "stream",
          "name": "stdout",
          "text": [
            "<class 'pandas.core.frame.DataFrame'>\n",
            "RangeIndex: 49 entries, 0 to 48\n",
            "Data columns (total 12 columns):\n",
            " #   Column                              Non-Null Count  Dtype  \n",
            "---  ------                              --------------  -----  \n",
            " 0   Location                            49 non-null     object \n",
            " 1   Number of Households (in 1000)      49 non-null     int64  \n",
            " 2   Percentage of households with pets  49 non-null     float64\n",
            " 3   Number of Pet Households (in 1000)  49 non-null     int64  \n",
            " 4   Percentage of Dog Owners            49 non-null     float64\n",
            " 5   Dog Owning Households (1000s)       49 non-null     int64  \n",
            " 6   Mean Number of Dogs per household   49 non-null     float64\n",
            " 7   Dog Population (in 1000)            49 non-null     int64  \n",
            " 8   Percentage of Cat Owners            49 non-null     float64\n",
            " 9   Cat Owning Households               49 non-null     int64  \n",
            " 10  Mean Number of Cats                 49 non-null     float64\n",
            " 11  Cat Population                      49 non-null     int64  \n",
            "dtypes: float64(5), int64(6), object(1)\n",
            "memory usage: 4.7+ KB\n"
          ]
        }
      ]
    },
    {
      "cell_type": "code",
      "metadata": {
        "colab": {
          "base_uri": "https://localhost:8080/",
          "height": 0
        },
        "id": "OUjap17XZbBv",
        "outputId": "42eb735d-b986-41a8-c6ac-22ad4373fba7"
      },
      "source": [
        "# Display the first few rows\n",
        "df.head()"
      ],
      "execution_count": 36,
      "outputs": [
        {
          "output_type": "execute_result",
          "data": {
            "text/html": [
              "<div>\n",
              "<style scoped>\n",
              "    .dataframe tbody tr th:only-of-type {\n",
              "        vertical-align: middle;\n",
              "    }\n",
              "\n",
              "    .dataframe tbody tr th {\n",
              "        vertical-align: top;\n",
              "    }\n",
              "\n",
              "    .dataframe thead th {\n",
              "        text-align: right;\n",
              "    }\n",
              "</style>\n",
              "<table border=\"1\" class=\"dataframe\">\n",
              "  <thead>\n",
              "    <tr style=\"text-align: right;\">\n",
              "      <th></th>\n",
              "      <th>Location</th>\n",
              "      <th>Number of Households (in 1000)</th>\n",
              "      <th>Percentage of households with pets</th>\n",
              "      <th>Number of Pet Households (in 1000)</th>\n",
              "      <th>Percentage of Dog Owners</th>\n",
              "      <th>Dog Owning Households (1000s)</th>\n",
              "      <th>Mean Number of Dogs per household</th>\n",
              "      <th>Dog Population (in 1000)</th>\n",
              "      <th>Percentage of Cat Owners</th>\n",
              "      <th>Cat Owning Households</th>\n",
              "      <th>Mean Number of Cats</th>\n",
              "      <th>Cat Population</th>\n",
              "    </tr>\n",
              "  </thead>\n",
              "  <tbody>\n",
              "    <tr>\n",
              "      <th>0</th>\n",
              "      <td>Alabama</td>\n",
              "      <td>1828</td>\n",
              "      <td>59.5</td>\n",
              "      <td>1088</td>\n",
              "      <td>44.1</td>\n",
              "      <td>807</td>\n",
              "      <td>1.7</td>\n",
              "      <td>1410</td>\n",
              "      <td>27.4</td>\n",
              "      <td>501</td>\n",
              "      <td>2.5</td>\n",
              "      <td>1252</td>\n",
              "    </tr>\n",
              "    <tr>\n",
              "      <th>1</th>\n",
              "      <td>Arizona</td>\n",
              "      <td>2515</td>\n",
              "      <td>59.5</td>\n",
              "      <td>1497</td>\n",
              "      <td>40.1</td>\n",
              "      <td>1008</td>\n",
              "      <td>1.8</td>\n",
              "      <td>1798</td>\n",
              "      <td>29.6</td>\n",
              "      <td>743</td>\n",
              "      <td>1.9</td>\n",
              "      <td>1438</td>\n",
              "    </tr>\n",
              "    <tr>\n",
              "      <th>2</th>\n",
              "      <td>Arkansas</td>\n",
              "      <td>1148</td>\n",
              "      <td>62.4</td>\n",
              "      <td>716</td>\n",
              "      <td>47.9</td>\n",
              "      <td>550</td>\n",
              "      <td>2.0</td>\n",
              "      <td>1097</td>\n",
              "      <td>30.6</td>\n",
              "      <td>351</td>\n",
              "      <td>2.3</td>\n",
              "      <td>810</td>\n",
              "    </tr>\n",
              "    <tr>\n",
              "      <th>3</th>\n",
              "      <td>California</td>\n",
              "      <td>12974</td>\n",
              "      <td>52.9</td>\n",
              "      <td>6865</td>\n",
              "      <td>32.8</td>\n",
              "      <td>4260</td>\n",
              "      <td>1.6</td>\n",
              "      <td>6687</td>\n",
              "      <td>28.3</td>\n",
              "      <td>3687</td>\n",
              "      <td>1.9</td>\n",
              "      <td>7118</td>\n",
              "    </tr>\n",
              "    <tr>\n",
              "      <th>4</th>\n",
              "      <td>Colorado</td>\n",
              "      <td>1986</td>\n",
              "      <td>61.3</td>\n",
              "      <td>1217</td>\n",
              "      <td>42.5</td>\n",
              "      <td>845</td>\n",
              "      <td>1.6</td>\n",
              "      <td>1349</td>\n",
              "      <td>32.3</td>\n",
              "      <td>642</td>\n",
              "      <td>1.9</td>\n",
              "      <td>1191</td>\n",
              "    </tr>\n",
              "  </tbody>\n",
              "</table>\n",
              "</div>"
            ],
            "text/plain": [
              "     Location  ...  Cat Population\n",
              "0     Alabama  ...            1252\n",
              "1     Arizona  ...            1438\n",
              "2    Arkansas  ...             810\n",
              "3  California  ...            7118\n",
              "4    Colorado  ...            1191\n",
              "\n",
              "[5 rows x 12 columns]"
            ]
          },
          "metadata": {},
          "execution_count": 36
        }
      ]
    },
    {
      "cell_type": "markdown",
      "metadata": {
        "id": "brWRVUSq1Xhb"
      },
      "source": [
        "## Dog Owners"
      ]
    },
    {
      "cell_type": "code",
      "metadata": {
        "colab": {
          "base_uri": "https://localhost:8080/",
          "height": 312
        },
        "id": "tOKX5Fqo0MCG",
        "outputId": "ca8fa133-91ab-49cd-8886-e69372bb4584"
      },
      "source": [
        "# Create a histogram of the column 'Percentage of Dog Owners'\n",
        "plt.hist(df['Percentage of Dog Owners'])\n",
        "\n",
        "# Puts a title and axis labels\n",
        "plt.title('Percentage of Dog Owners')\n",
        "plt.xlabel('Percentage of Dog Owners [%]')\n",
        "plt.ylabel('Frequency')"
      ],
      "execution_count": 37,
      "outputs": [
        {
          "output_type": "execute_result",
          "data": {
            "text/plain": [
              "Text(0, 0.5, 'Frequency')"
            ]
          },
          "metadata": {},
          "execution_count": 37
        },
        {
          "output_type": "display_data",
          "data": {
            "image/png": "[encoded data removed]",
            "text/plain": [
              "<Figure size 432x288 with 1 Axes>"
            ]
          },
          "metadata": {
            "needs_background": "light"
          }
        }
      ]
    },
    {
      "cell_type": "markdown",
      "metadata": {
        "id": "dKRKJMeL1bWi"
      },
      "source": [
        "## Cat Owners"
      ]
    },
    {
      "cell_type": "code",
      "metadata": {
        "colab": {
          "base_uri": "https://localhost:8080/",
          "height": 312
        },
        "id": "YrF76B1i1Aj0",
        "outputId": "84b25c8c-72dc-4ade-e1a3-92acb17e9e70"
      },
      "source": [
        "# Create a histogram of the column 'Percentage of Cat Owners'\n",
        "plt.hist(df['Percentage of Cat Owners'])\n",
        "\n",
        "# Puts a title and axis labels\n",
        "plt.title('Percentage of Cat Owners')\n",
        "plt.xlabel('Percentage of Cat Owners [%]')\n",
        "plt.ylabel('Frequency')"
      ],
      "execution_count": 38,
      "outputs": [
        {
          "output_type": "execute_result",
          "data": {
            "text/plain": [
              "Text(0, 0.5, 'Frequency')"
            ]
          },
          "metadata": {},
          "execution_count": 38
        },
        {
          "output_type": "display_data",
          "data": {
            "image/png": "[encoded data removed]",
            "text/plain": [
              "<Figure size 432x288 with 1 Axes>"
            ]
          },
          "metadata": {
            "needs_background": "light"
          }
        }
      ]
    },
    {
      "cell_type": "markdown",
      "metadata": {
        "id": "p2J8BBK_1d0s"
      },
      "source": [
        "## Combined histograms"
      ]
    },
    {
      "cell_type": "code",
      "metadata": {
        "colab": {
          "base_uri": "https://localhost:8080/",
          "height": 312
        },
        "id": "E6qr8HOe1irR",
        "outputId": "43a3b481-62a7-4dd5-c09e-22c45e1ad56d"
      },
      "source": [
        "# Creates the two histograms in the same figure\n",
        "plt.hist(df['Percentage of Cat Owners'], alpha = 0.5, edgecolor = \"black\", \n",
        "         label = 'Cats')\n",
        "plt.hist(df['Percentage of Dog Owners'], alpha = 0.5, edgecolor = \"black\", \n",
        "         label = 'Dogs')\n",
        "\n",
        "# Puts a title, legend, and axis labels\n",
        "plt.title('Percentage of Pet Owners')\n",
        "plt.xlabel('Percentage of Pet Owners [%]')\n",
        "plt.ylabel('Frequency')\n",
        "plt.legend()"
      ],
      "execution_count": 39,
      "outputs": [
        {
          "output_type": "execute_result",
          "data": {
            "text/plain": [
              "<matplotlib.legend.Legend at 0x7fdfedddce10>"
            ]
          },
          "metadata": {},
          "execution_count": 39
        },
        {
          "output_type": "display_data",
          "data": {
            "image/png": "[encoded data removed]",
            "text/plain": [
              "<Figure size 432x288 with 1 Axes>"
            ]
          },
          "metadata": {
            "needs_background": "light"
          }
        }
      ]
    },
    {
      "cell_type": "markdown",
      "metadata": {
        "id": "lsLOn1TU2Z_7"
      },
      "source": [
        "From the combined histograms, we can see that the ownership of cats almost follow a normal distribution with the average cat ownership of different states lying at around 30%. Contrary to dog ownership, the distribution is almost uniform at higher percentages. \\\\\n",
        "From this, we can also see that there are more states with higher percentage of dog ownership compared to cat ownership."
      ]
    },
    {
      "cell_type": "markdown",
      "metadata": {
        "id": "7KhIRjnA7e12"
      },
      "source": [
        "## Mean number of pets"
      ]
    },
    {
      "cell_type": "code",
      "metadata": {
        "colab": {
          "base_uri": "https://localhost:8080/",
          "height": 370
        },
        "id": "qHDzFF2q2ZeF",
        "outputId": "53f9857c-4f90-4405-838a-44321e55d509"
      },
      "source": [
        "# Isolates what columns to use for the plot\n",
        "cats = df['Mean Number of Cats']\n",
        "dogs = df['Mean Number of Dogs per household']\n",
        "\n",
        "# Initialize the figure\n",
        "fig, axes = plt.subplots(nrows = 1, ncols = 1, figsize = (8,5))\n",
        "\n",
        "# Create the plot in the figure\n",
        "boxplots = axes.boxplot([cats, dogs],\n",
        "           notch = True,\n",
        "           labels=['Cats', 'Dogs'],\n",
        "           widths = .7,\n",
        "           patch_artist=True,\n",
        "           medianprops = dict(linestyle='-', linewidth=2, color='Yellow'),\n",
        "           boxprops = dict(linestyle='--', linewidth=2, color='Black', facecolor = 'blue', alpha = .4)\n",
        "          );\n",
        "\n",
        "# Groom thep lot\n",
        "boxplot1 = boxplots['boxes'][0]\n",
        "boxplot1.set_facecolor('red')\n",
        "plt.xlabel('Pet', fontsize = 20);\n",
        "plt.ylabel('Mean Number of Pets per State', fontsize = 20);\n",
        "plt.xticks(fontsize = 16);\n",
        "plt.yticks(fontsize = 16);"
      ],
      "execution_count": 40,
      "outputs": [
        {
          "output_type": "display_data",
          "data": {
            "image/png": "[encoded data removed]",
            "text/plain": [
              "<Figure size 576x360 with 1 Axes>"
            ]
          },
          "metadata": {
            "needs_background": "light"
          }
        }
      ]
    },
    {
      "cell_type": "markdown",
      "metadata": {
        "id": "fTQz_oM-6DST"
      },
      "source": [
        "From the box plot, we can say that the mean number of cats and dogs per state don't have outliers. Regarding their distribution, both have almost the same range and variablity. However, it is easily noticeable that the median, minimum, and maximum for the mean number of cats is significantly higher than that of dogs."
      ]
    }
  ]
}